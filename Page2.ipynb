{
  "nbformat": 4,
  "nbformat_minor": 0,
  "metadata": {
    "colab": {
      "provenance": [],
      "authorship_tag": "ABX9TyP5Xs3GXM4kxG9bUlR0GoGT",
      "include_colab_link": true
    },
    "kernelspec": {
      "name": "python3",
      "display_name": "Python 3"
    },
    "language_info": {
      "name": "python"
    }
  },
  "cells": [
    {
      "cell_type": "markdown",
      "metadata": {
        "id": "view-in-github",
        "colab_type": "text"
      },
      "source": [
        "<a href=\"https://colab.research.google.com/github/RitekPillai/CGPracticals/blob/main/Page2.ipynb\" target=\"_parent\"><img src=\"https://colab.research.google.com/assets/colab-badge.svg\" alt=\"Open In Colab\"/></a>"
      ]
    },
    {
      "cell_type": "markdown",
      "source": [
        "Practical9B"
      ],
      "metadata": {
        "id": "7v3CM-2bYYpz"
      }
    },
    {
      "cell_type": "code",
      "source": [
        "import numpy as np\n",
        "\n",
        "def boundaryfill(image, x, y, fill_color, boundary_color):\n",
        "\n",
        "    rows, cols = image.shape  # Get image dimensions\n",
        "\n",
        "    # checking for the out of bonds and checking if the x,y is equal to fillcolor(which is already filled ) or boundary_color\n",
        "    if 0 <= x < cols and 0 <= y < rows and image[y, x] != fill_color and image[y, x] != boundary_color:\n",
        "        image[y, x] = fill_color\n",
        "        boundaryfill(image, x + 1, y, fill_color, boundary_color)\n",
        "        boundaryfill(image, x - 1, y, fill_color, boundary_color)\n",
        "        boundaryfill(image, x, y + 1, fill_color, boundary_color)\n",
        "        boundaryfill(image, x, y - 1, fill_color, boundary_color)\n",
        "    return image\n",
        "\n",
        "image = np.array([\n",
        "    [0, 0, 0, 0, 0, 0, 0],\n",
        "    [0, 1, 1, 1, 1, 0, 0],\n",
        "    [0, 1, 0, 0, 1, 0, 0],\n",
        "    [0, 1, 0, 0, 1, 0, 0],\n",
        "    [0, 1, 1, 1, 1, 0, 0]\n",
        "])\n",
        "\n",
        "print(\"Original Image:\")\n",
        "print(image)\n",
        "print(\"New Image:\")\n",
        "print(boundaryfill(image, 1, 1, 5, 0))"
      ],
      "metadata": {
        "colab": {
          "base_uri": "https://localhost:8080/"
        },
        "id": "p2qZKyaSNpmd",
        "outputId": "12b28117-e4c1-4486-ff9e-1fa1dc4225d3"
      },
      "execution_count": 11,
      "outputs": [
        {
          "output_type": "stream",
          "name": "stdout",
          "text": [
            "Original Image:\n",
            "[[0 0 0 0 0 0 0]\n",
            " [0 1 1 1 1 0 0]\n",
            " [0 1 0 0 1 0 0]\n",
            " [0 1 0 0 1 0 0]\n",
            " [0 1 1 1 1 0 0]]\n",
            "New Image:\n",
            "[[0 0 0 0 0 0 0]\n",
            " [0 5 5 5 5 0 0]\n",
            " [0 5 0 0 5 0 0]\n",
            " [0 5 0 0 5 0 0]\n",
            " [0 5 5 5 5 0 0]]\n"
          ]
        }
      ]
    },
    {
      "cell_type": "code",
      "source": [],
      "metadata": {
        "id": "St98dhNbXsZF"
      },
      "execution_count": null,
      "outputs": []
    }
  ]
}